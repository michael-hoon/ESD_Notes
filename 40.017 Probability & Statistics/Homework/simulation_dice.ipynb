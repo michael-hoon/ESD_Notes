{
 "cells": [
  {
   "cell_type": "code",
   "execution_count": 1,
   "id": "3ad5f426",
   "metadata": {},
   "outputs": [],
   "source": [
    "# simulation example: estimate the probability that the sum of 100 dice rolls is <= 330\n",
    "# start by loading the 'random' module\n",
    "import random"
   ]
  },
  {
   "cell_type": "code",
   "execution_count": 2,
   "id": "326029e8",
   "metadata": {},
   "outputs": [
    {
     "name": "stdout",
     "output_type": "stream",
     "text": [
      "7\n"
     ]
    }
   ],
   "source": [
    "# simulate the sum of two dice rolls\n",
    "x = random.randint(1, 6)\n",
    "y = random.randint(1, 6)\n",
    "print(x + y)"
   ]
  },
  {
   "cell_type": "code",
   "execution_count": 3,
   "id": "e4e06d2c",
   "metadata": {},
   "outputs": [
    {
     "data": {
      "text/plain": [
       "[6, 5, 5, 5, 5, 4, 6, 2, 6, 1]"
      ]
     },
     "execution_count": 3,
     "metadata": {},
     "output_type": "execute_result"
    }
   ],
   "source": [
    "# simulate 10 dice rolls\n",
    "[random.randint(1, 6) for i in range(10)]"
   ]
  },
  {
   "cell_type": "code",
   "execution_count": 4,
   "id": "1cc915c2",
   "metadata": {},
   "outputs": [
    {
     "data": {
      "text/plain": [
       "346"
      ]
     },
     "execution_count": 4,
     "metadata": {},
     "output_type": "execute_result"
    }
   ],
   "source": [
    "# sum of 100 dice rolls\n",
    "sum([random.randint(1, 6) for i in range(100)])"
   ]
  },
  {
   "cell_type": "code",
   "execution_count": 5,
   "id": "710773f3",
   "metadata": {},
   "outputs": [
    {
     "name": "stdout",
     "output_type": "stream",
     "text": [
      "0\n"
     ]
    }
   ],
   "source": [
    "# use a counter to keep track of how many times the sum is <= 330\n",
    "count = 0\n",
    "dicesum = sum([random.randint(1, 6) for i in range(100)])\n",
    "if dicesum <= 330:\n",
    "    count = count + 1\n",
    "print(count)"
   ]
  },
  {
   "cell_type": "code",
   "execution_count": 6,
   "id": "13795bfc",
   "metadata": {},
   "outputs": [
    {
     "name": "stdout",
     "output_type": "stream",
     "text": [
      "0.12744\n"
     ]
    }
   ],
   "source": [
    "# final simulation (10^5 times)\n",
    "# the exact answer is 0.127 to 3 decimals\n",
    "count = 0\n",
    "times = 10**5\n",
    "for j in range(times):\n",
    "    dicesum = sum([random.randint(1, 6) for i in range(100)])\n",
    "    if dicesum <= 330:\n",
    "        count = count + 1\n",
    "print(count/times)"
   ]
  },
  {
   "cell_type": "code",
   "execution_count": null,
   "id": "1b385ced",
   "metadata": {},
   "outputs": [],
   "source": []
  }
 ],
 "metadata": {
  "kernelspec": {
   "display_name": "Python 3 (ipykernel)",
   "language": "python",
   "name": "python3"
  },
  "language_info": {
   "codemirror_mode": {
    "name": "ipython",
    "version": 3
   },
   "file_extension": ".py",
   "mimetype": "text/x-python",
   "name": "python",
   "nbconvert_exporter": "python",
   "pygments_lexer": "ipython3",
   "version": "3.11.1"
  }
 },
 "nbformat": 4,
 "nbformat_minor": 5
}
